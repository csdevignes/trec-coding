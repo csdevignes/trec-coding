{
 "cells": [
  {
   "cell_type": "markdown",
   "metadata": {
    "id": "UNMh_-Gc68sJ"
   },
   "source": [
    "# Mise en place"
   ]
  },
  {
   "cell_type": "code",
   "execution_count": 1,
   "metadata": {
    "id": "YhRdUioCKWL6"
   },
   "outputs": [],
   "source": [
    "import tensorflow as tf\n",
    "from tensorflow.keras.models import Sequential\n",
    "from tensorflow.keras.layers import Dense\n",
    "import seaborn as sns\n",
    "from tensorflow import keras\n",
    "import matplotlib.pyplot as plt\n",
    "import numpy as np\n",
    "import pandas as pd\n",
    "from sklearn.model_selection import train_test_split\n",
    "import cv2 as cv"
   ]
  },
  {
   "cell_type": "code",
   "execution_count": null,
   "metadata": {
    "colab": {
     "base_uri": "https://localhost:8080/"
    },
    "executionInfo": {
     "elapsed": 20391,
     "status": "ok",
     "timestamp": 1712931862226,
     "user": {
      "displayName": "Claire Devignes",
      "userId": "02865189488717135478"
     },
     "user_tz": -120
    },
    "id": "oA4WanmO4xBu",
    "outputId": "492b5696-85cd-4cf2-d989-a8f60b15009a"
   },
   "outputs": [
    {
     "name": "stdout",
     "output_type": "stream",
     "text": [
      "Mounted at /content/drive\n"
     ]
    }
   ],
   "source": [
    "## Execute this when running the notebook on google colab\n",
    "from google.colab import drive\n",
    "drive.mount('/content/drive')\n",
    "# Then change this to your own folder path containing the notebook\n",
    "folder_path = \"/content/drive/MyDrive/TREC_Codage\""
   ]
  },
  {
   "cell_type": "code",
   "execution_count": 2,
   "metadata": {},
   "outputs": [],
   "source": [
    "folder_path = \"\""
   ]
  },
  {
   "cell_type": "markdown",
   "metadata": {
    "id": "0iyIqE_j7BAb"
   },
   "source": [
    "# Préparation des données"
   ]
  },
  {
   "cell_type": "markdown",
   "metadata": {
    "id": "askLUwS_7NZj"
   },
   "source": [
    "## Séparation et redimensionnement des images"
   ]
  },
  {
   "cell_type": "code",
   "execution_count": null,
   "metadata": {
    "colab": {
     "base_uri": "https://localhost:8080/"
    },
    "executionInfo": {
     "elapsed": 6,
     "status": "ok",
     "timestamp": 1712932642101,
     "user": {
      "displayName": "Claire Devignes",
      "userId": "02865189488717135478"
     },
     "user_tz": -120
    },
    "id": "qzmQUlbQspXI",
    "outputId": "d25d3ee5-557f-4ea7-e76c-64efda9c1625"
   },
   "outputs": [
    {
     "name": "stdout",
     "output_type": "stream",
     "text": [
      "(1719, 74, 74)\n",
      "(1719,)\n"
     ]
    }
   ],
   "source": [
    "# Pour charger le dataset de Hamza\n",
    "import pickle\n",
    "import numpy as np\n",
    "file = f'{folder_path}/data_resultsheets/data.pkl'\n",
    "with open(file, 'rb') as f:\n",
    "      pict, label = pickle.load(f)\n",
    "print(pict.shape)\n",
    "print(label.shape)"
   ]
  },
  {
   "cell_type": "code",
   "execution_count": 3,
   "metadata": {
    "colab": {
     "base_uri": "https://localhost:8080/"
    },
    "executionInfo": {
     "elapsed": 1045,
     "status": "ok",
     "timestamp": 1712836124441,
     "user": {
      "displayName": "Claire Devignes",
      "userId": "02865189488717135478"
     },
     "user_tz": -120
    },
    "id": "Fd85ycOJ-Hd4",
    "outputId": "be99b129-2199-4739-b4c3-c6fb00e48c5a"
   },
   "outputs": [
    {
     "name": "stdout",
     "output_type": "stream",
     "text": [
      "(3403, 6233)\n",
      "[[255 255 255 ... 255 255   1]\n",
      " [255 255 255 ... 255 255   1]\n",
      " [255 255 255 ... 255 255   1]\n",
      " ...\n",
      " [255 255 255 ... 255 255   9]\n",
      " [254 255 255 ... 255 255   9]\n",
      " [255 255 255 ... 255 255   9]]\n"
     ]
    }
   ],
   "source": [
    "# Importation des dataset\n",
    "file_name = [f\"0{x}\" for x in range(1, 10)]\n",
    "full_da = np.loadtxt(f'{folder_path}data_resultsheets/{file_name[0]}.csv', dtype = \"int32\", delimiter=',')\n",
    "for file in file_name[1:]:\n",
    "    da = np.loadtxt(f'{folder_path}data_resultsheets/{file}.csv', dtype = \"int32\", delimiter=',')\n",
    "    full_da = np.append(full_da, da, axis = 0)\n",
    "file_name_b2 = [f\"IMG_000{x}\" for x in range(1, 10)]\n",
    "for file in file_name_b2:\n",
    "    da = np.loadtxt(f'{folder_path}data_resultsheets/{file}.csv', dtype = \"int32\", delimiter=',')\n",
    "    full_da = np.append(full_da, da, axis = 0)\n",
    "print(full_da.shape)\n",
    "print(full_da)\n"
   ]
  },
  {
   "cell_type": "code",
   "execution_count": 4,
   "metadata": {
    "colab": {
     "base_uri": "https://localhost:8080/"
    },
    "executionInfo": {
     "elapsed": 5,
     "status": "ok",
     "timestamp": 1712836124442,
     "user": {
      "displayName": "Claire Devignes",
      "userId": "02865189488717135478"
     },
     "user_tz": -120
    },
    "id": "A6XQbQQKDTzD",
    "outputId": "92f515bb-f230-46fe-c842-5df0e9418e62"
   },
   "outputs": [
    {
     "name": "stdout",
     "output_type": "stream",
     "text": [
      "(3403, 6232)\n",
      "(3403, 1)\n",
      "3403\n",
      "(3403, 76, 82)\n"
     ]
    }
   ],
   "source": [
    "# Separation of images and labels\n",
    "full_da_split = np.split(full_da, [6232], axis = 1)\n",
    "pict = full_da_split[0]\n",
    "label = full_da_split[1]\n",
    "print(pict.shape)\n",
    "print(label.shape)\n",
    "# Reshape pict data into matrices corresponding to image size used in extraction\n",
    "pict = pict.reshape((len(pict), 76, 82))\n",
    "print(pict.shape)"
   ]
  },
  {
   "cell_type": "code",
   "execution_count": 5,
   "metadata": {
    "colab": {
     "base_uri": "https://localhost:8080/"
    },
    "executionInfo": {
     "elapsed": 413,
     "status": "ok",
     "timestamp": 1712932649168,
     "user": {
      "displayName": "Claire Devignes",
      "userId": "02865189488717135478"
     },
     "user_tz": -120
    },
    "id": "aucLKSyoBA2z",
    "outputId": "b2414ea6-b27c-447e-9dd4-a2cd001163fd"
   },
   "outputs": [
    {
     "name": "stdout",
     "output_type": "stream",
     "text": [
      "(3403, 28, 28)\n"
     ]
    }
   ],
   "source": [
    "# Redimension pictures\n",
    "new_size = (28, 28)\n",
    "pict = pict.astype(np.float32)\n",
    "pict = pict.reshape(-1, pict.shape[1], pict.shape[2], 1)\n",
    "pict_redim = np.empty((len(pict), 28, 28))\n",
    "# Boucle sur chaque image de l'array\n",
    "for i in range(len(pict)):\n",
    "    img_resized = cv.resize(pict[i], new_size, interpolation=cv.INTER_AREA)\n",
    "    pict_redim[i] = img_resized\n",
    "print(pict_redim.shape)"
   ]
  },
  {
   "cell_type": "markdown",
   "metadata": {
    "id": "HDfnAz5R7RVL"
   },
   "source": [
    "## Train-test split"
   ]
  },
  {
   "cell_type": "code",
   "execution_count": 6,
   "metadata": {
    "colab": {
     "base_uri": "https://localhost:8080/",
     "height": 541
    },
    "executionInfo": {
     "elapsed": 425,
     "status": "ok",
     "timestamp": 1712932653580,
     "user": {
      "displayName": "Claire Devignes",
      "userId": "02865189488717135478"
     },
     "user_tz": -120
    },
    "id": "oeYCN2-p-Vlw",
    "outputId": "d0f3cab6-2ddc-473d-9286-e0f544c8116a"
   },
   "outputs": [
    {
     "name": "stdout",
     "output_type": "stream",
     "text": [
      "Training DataArray :\n",
      "(2268, 28, 28)\n",
      "(2268, 1)\n",
      "Test DataArray :\n",
      "(1135, 28, 28)\n",
      "(1135, 1)\n"
     ]
    },
    {
     "data": {
      "image/png": "[encoded data removed]",
      "text/plain": [
       "<Figure size 640x480 with 1 Axes>"
      ]
     },
     "metadata": {},
     "output_type": "display_data"
    }
   ],
   "source": [
    "# Split the DataFrame into training and testing sets\n",
    "X_train, X_test, y_train, y_test = train_test_split(pict_redim, label, test_size=1/3, random_state=42)\n",
    "\n",
    "# Display the first five rows of the training DataFrame\n",
    "print(\"Training DataArray :\")\n",
    "print(X_train.shape)\n",
    "print(y_train.shape)\n",
    "\n",
    "# Display the first five rows of the test DataFrame\n",
    "print(\"Test DataArray :\")\n",
    "print(X_test.shape)\n",
    "print(y_test.shape)\n",
    "plt.hist([y_train.flatten(), y_test.flatten()], bins=np.arange(0.5, 9.5, 1), stacked=True, label=['y_train', 'y_test'])\n",
    "plt.legend(bbox_to_anchor=(1.05, 1), loc='upper left')\n",
    "plt.show()\n"
   ]
  },
  {
   "cell_type": "code",
   "execution_count": 7,
   "metadata": {
    "colab": {
     "base_uri": "https://localhost:8080/",
     "height": 123
    },
    "executionInfo": {
     "elapsed": 1286,
     "status": "ok",
     "timestamp": 1712932664989,
     "user": {
      "displayName": "Claire Devignes",
      "userId": "02865189488717135478"
     },
     "user_tz": -120
    },
    "id": "Ie1lZmaKDcdw",
    "outputId": "2df77813-f33f-4e4c-9a41-8c9096f00847"
   },
   "outputs": [
    {
     "data": {
      "image/png": "[encoded data removed]",
      "text/plain": [
       "<Figure size 1200x300 with 15 Axes>"
      ]
     },
     "metadata": {},
     "output_type": "display_data"
    }
   ],
   "source": [
    "# Define a function to visualize samples from the dataset\n",
    "def visualize_samples(X, y, num_samples=5):\n",
    "    # Obtain a subset of random indices\n",
    "    sample_indices = np.random.choice(len(X), num_samples, replace=False)\n",
    "\n",
    "    # Create a grid plot for the samples\n",
    "    fig, axes = plt.subplots(1, num_samples, figsize=(12, 3))\n",
    "    for i, idx in enumerate(sample_indices):\n",
    "        # Reshape and display each sample as an image\n",
    "        axes[i].imshow(X[idx], cmap='gray')\n",
    "        # Set the title for each subplot as the corresponding label\n",
    "        axes[i].set_title(f\"Label: {y[idx]}\")\n",
    "        # Hide axis ticks for a cleaner look\n",
    "        axes[i].axis('off')\n",
    "    # Adjust layout for better spacing between subplots\n",
    "    plt.tight_layout()\n",
    "    # Display the plot\n",
    "    plt.show()\n",
    "\n",
    "# Call the function to visualize 10 random samples from the dataset\n",
    "visualize_samples(pict, label, num_samples=15)\n",
    "\n"
   ]
  },
  {
   "cell_type": "code",
   "execution_count": 8,
   "metadata": {
    "colab": {
     "base_uri": "https://localhost:8080/"
    },
    "executionInfo": {
     "elapsed": 310,
     "status": "ok",
     "timestamp": 1712932670364,
     "user": {
      "displayName": "Claire Devignes",
      "userId": "02865189488717135478"
     },
     "user_tz": -120
    },
    "id": "ezKXp7IkLRG8",
    "outputId": "55c9b80b-40a6-4621-9ab8-8efc657cc18f"
   },
   "outputs": [
    {
     "name": "stdout",
     "output_type": "stream",
     "text": [
      "(28, 28)\n"
     ]
    }
   ],
   "source": [
    "# Get the shape of the first training sample\n",
    "print(X_train[0].shape)\n"
   ]
  },
  {
   "cell_type": "code",
   "execution_count": 9,
   "metadata": {
    "colab": {
     "base_uri": "https://localhost:8080/",
     "height": 437
    },
    "executionInfo": {
     "elapsed": 854,
     "status": "ok",
     "timestamp": 1712932673774,
     "user": {
      "displayName": "Claire Devignes",
      "userId": "02865189488717135478"
     },
     "user_tz": -120
    },
    "id": "qcXfI3_XLWa6",
    "outputId": "cf53c625-abc2-42d8-ef14-b9e2af9e74c9"
   },
   "outputs": [
    {
     "data": {
      "image/png": "[encoded data removed]",
      "text/plain": [
       "<Figure size 480x480 with 1 Axes>"
      ]
     },
     "metadata": {},
     "output_type": "display_data"
    }
   ],
   "source": [
    "# Visualize the third training sample as an image\n",
    "plt.matshow(X_train[2], cmap = \"gray\")\n",
    "plt.show()  # Display the plot"
   ]
  },
  {
   "cell_type": "markdown",
   "metadata": {
    "id": "2BES_LG47Ze4"
   },
   "source": [
    "## Normalisation et création des vecteurs d'image"
   ]
  },
  {
   "cell_type": "code",
   "execution_count": 10,
   "metadata": {
    "id": "PKhsiT_CNohC"
   },
   "outputs": [],
   "source": [
    "# Normalize the pixel values of the images to be between 0 and 1\n",
    "X_train = X_train / 255\n",
    "X_test = X_test / 255\n"
   ]
  },
  {
   "cell_type": "code",
   "execution_count": 11,
   "metadata": {
    "colab": {
     "base_uri": "https://localhost:8080/"
    },
    "executionInfo": {
     "elapsed": 418,
     "status": "ok",
     "timestamp": 1712932682040,
     "user": {
      "displayName": "Claire Devignes",
      "userId": "02865189488717135478"
     },
     "user_tz": -120
    },
    "id": "9Vz99K8ILcP6",
    "outputId": "94b53c11-516b-4018-8480-7fb8d3a4f7b0"
   },
   "outputs": [
    {
     "name": "stdout",
     "output_type": "stream",
     "text": [
      "(2268, 784)\n",
      "(1135, 784)\n"
     ]
    }
   ],
   "source": [
    "# Flatten the 28x28 images into a 784 element vector for each image\n",
    "X_train_flattened = X_train.reshape(len(X_train), 28*28)\n",
    "X_test_flattened = X_test.reshape(len(X_test), 28*28)\n",
    "# Check the shape of the flattened training set (should be [num_samples, 784])\n",
    "print(X_train_flattened.shape)\n",
    "print(X_test_flattened.shape)"
   ]
  },
  {
   "cell_type": "markdown",
   "metadata": {
    "id": "jp4WECOw7eE-"
   },
   "source": [
    "# Entrainement du modèle"
   ]
  },
  {
   "cell_type": "code",
   "execution_count": 12,
   "metadata": {
    "colab": {
     "base_uri": "https://localhost:8080/"
    },
    "executionInfo": {
     "elapsed": 21819,
     "status": "ok",
     "timestamp": 1712932709694,
     "user": {
      "displayName": "Claire Devignes",
      "userId": "02865189488717135478"
     },
     "user_tz": -120
    },
    "id": "DcW-Za2iMDSK",
    "outputId": "64c4b66e-bf22-4a12-aa51-7958fcbb91b8"
   },
   "outputs": [
    {
     "name": "stdout",
     "output_type": "stream",
     "text": [
      "Epoch 1/128\n",
      "36/36 [==============================] - 1s 3ms/step - loss: 2.2023 - accuracy: 0.1332\n",
      "Epoch 2/128\n",
      "36/36 [==============================] - 0s 2ms/step - loss: 2.0153 - accuracy: 0.3038\n",
      "Epoch 3/128\n",
      "36/36 [==============================] - 0s 3ms/step - loss: 1.8464 - accuracy: 0.4065\n",
      "Epoch 4/128\n",
      "36/36 [==============================] - 0s 4ms/step - loss: 1.6462 - accuracy: 0.4766\n",
      "Epoch 5/128\n",
      "36/36 [==============================] - 0s 3ms/step - loss: 1.4613 - accuracy: 0.5745\n",
      "Epoch 6/128\n",
      "36/36 [==============================] - 0s 3ms/step - loss: 1.3199 - accuracy: 0.6261\n",
      "Epoch 7/128\n",
      "36/36 [==============================] - 0s 4ms/step - loss: 1.2188 - accuracy: 0.6327\n",
      "Epoch 8/128\n",
      "36/36 [==============================] - 0s 3ms/step - loss: 1.1025 - accuracy: 0.6852\n",
      "Epoch 9/128\n",
      "36/36 [==============================] - 0s 4ms/step - loss: 1.0021 - accuracy: 0.7368\n",
      "Epoch 10/128\n",
      "36/36 [==============================] - 0s 3ms/step - loss: 0.9552 - accuracy: 0.7381\n",
      "Epoch 11/128\n",
      "36/36 [==============================] - 0s 4ms/step - loss: 0.8860 - accuracy: 0.7575\n",
      "Epoch 12/128\n",
      "36/36 [==============================] - 0s 3ms/step - loss: 0.9100 - accuracy: 0.7319\n",
      "Epoch 13/128\n",
      "36/36 [==============================] - 0s 3ms/step - loss: 0.8385 - accuracy: 0.7672\n",
      "Epoch 14/128\n",
      "36/36 [==============================] - 0s 4ms/step - loss: 0.7987 - accuracy: 0.7676\n",
      "Epoch 15/128\n",
      "36/36 [==============================] - 0s 3ms/step - loss: 0.7484 - accuracy: 0.7994\n",
      "Epoch 16/128\n",
      "36/36 [==============================] - 0s 4ms/step - loss: 0.7233 - accuracy: 0.8020\n",
      "Epoch 17/128\n",
      "36/36 [==============================] - 0s 3ms/step - loss: 0.6858 - accuracy: 0.8175\n",
      "Epoch 18/128\n",
      "36/36 [==============================] - 0s 3ms/step - loss: 0.6971 - accuracy: 0.8020\n",
      "Epoch 19/128\n",
      "36/36 [==============================] - 0s 3ms/step - loss: 0.6791 - accuracy: 0.8078\n",
      "Epoch 20/128\n",
      "36/36 [==============================] - 0s 4ms/step - loss: 0.6471 - accuracy: 0.8104\n",
      "Epoch 21/128\n",
      "36/36 [==============================] - 0s 4ms/step - loss: 0.6055 - accuracy: 0.8373\n",
      "Epoch 22/128\n",
      "36/36 [==============================] - 0s 2ms/step - loss: 0.5888 - accuracy: 0.8404\n",
      "Epoch 23/128\n",
      "36/36 [==============================] - 0s 3ms/step - loss: 0.6193 - accuracy: 0.8311\n",
      "Epoch 24/128\n",
      "36/36 [==============================] - 0s 4ms/step - loss: 0.5465 - accuracy: 0.8571\n",
      "Epoch 25/128\n",
      "36/36 [==============================] - 0s 4ms/step - loss: 0.5462 - accuracy: 0.8514\n",
      "Epoch 26/128\n",
      "36/36 [==============================] - 0s 4ms/step - loss: 0.4974 - accuracy: 0.8690\n",
      "Epoch 27/128\n",
      "36/36 [==============================] - 0s 2ms/step - loss: 0.5048 - accuracy: 0.8668\n",
      "Epoch 28/128\n",
      "36/36 [==============================] - 0s 3ms/step - loss: 0.4744 - accuracy: 0.8796\n",
      "Epoch 29/128\n",
      "36/36 [==============================] - 0s 3ms/step - loss: 0.4866 - accuracy: 0.8708\n",
      "Epoch 30/128\n",
      "36/36 [==============================] - 0s 4ms/step - loss: 0.4606 - accuracy: 0.8765\n",
      "Epoch 31/128\n",
      "36/36 [==============================] - 0s 4ms/step - loss: 0.4346 - accuracy: 0.8933\n",
      "Epoch 32/128\n",
      "36/36 [==============================] - 0s 4ms/step - loss: 0.4318 - accuracy: 0.8924\n",
      "Epoch 33/128\n",
      "36/36 [==============================] - 0s 4ms/step - loss: 0.4293 - accuracy: 0.8867\n",
      "Epoch 34/128\n",
      "36/36 [==============================] - 0s 4ms/step - loss: 0.4294 - accuracy: 0.8862\n",
      "Epoch 35/128\n",
      "36/36 [==============================] - 0s 3ms/step - loss: 0.3935 - accuracy: 0.8955\n",
      "Epoch 36/128\n",
      "36/36 [==============================] - 0s 4ms/step - loss: 0.3774 - accuracy: 0.9012\n",
      "Epoch 37/128\n",
      "36/36 [==============================] - 0s 3ms/step - loss: 0.3581 - accuracy: 0.9118\n",
      "Epoch 38/128\n",
      "36/36 [==============================] - 0s 3ms/step - loss: 0.3906 - accuracy: 0.8951\n",
      "Epoch 39/128\n",
      "36/36 [==============================] - 0s 4ms/step - loss: 0.3687 - accuracy: 0.9039\n",
      "Epoch 40/128\n",
      "36/36 [==============================] - 0s 3ms/step - loss: 0.3382 - accuracy: 0.9184\n",
      "Epoch 41/128\n",
      "36/36 [==============================] - 0s 4ms/step - loss: 0.3390 - accuracy: 0.9034\n",
      "Epoch 42/128\n",
      "36/36 [==============================] - 0s 3ms/step - loss: 0.3352 - accuracy: 0.9167\n",
      "Epoch 43/128\n",
      "36/36 [==============================] - 0s 4ms/step - loss: 0.3383 - accuracy: 0.9065\n",
      "Epoch 44/128\n",
      "36/36 [==============================] - 0s 4ms/step - loss: 0.3137 - accuracy: 0.9237\n",
      "Epoch 45/128\n",
      "36/36 [==============================] - 0s 3ms/step - loss: 0.3026 - accuracy: 0.9220\n",
      "Epoch 46/128\n",
      "36/36 [==============================] - 0s 2ms/step - loss: 0.3130 - accuracy: 0.9140\n",
      "Epoch 47/128\n",
      "36/36 [==============================] - 0s 3ms/step - loss: 0.2758 - accuracy: 0.9303\n",
      "Epoch 48/128\n",
      "36/36 [==============================] - 0s 3ms/step - loss: 0.2656 - accuracy: 0.9325\n",
      "Epoch 49/128\n",
      "36/36 [==============================] - 0s 3ms/step - loss: 0.2811 - accuracy: 0.9299\n",
      "Epoch 50/128\n",
      "36/36 [==============================] - 0s 4ms/step - loss: 0.2745 - accuracy: 0.9303\n",
      "Epoch 51/128\n",
      "36/36 [==============================] - 0s 4ms/step - loss: 0.2667 - accuracy: 0.9343\n",
      "Epoch 52/128\n",
      "36/36 [==============================] - 0s 4ms/step - loss: 0.2653 - accuracy: 0.9281\n",
      "Epoch 53/128\n",
      "36/36 [==============================] - 0s 4ms/step - loss: 0.2590 - accuracy: 0.9352\n",
      "Epoch 54/128\n",
      "36/36 [==============================] - 0s 4ms/step - loss: 0.2162 - accuracy: 0.9519\n",
      "Epoch 55/128\n",
      "36/36 [==============================] - 0s 4ms/step - loss: 0.2236 - accuracy: 0.9436\n",
      "Epoch 56/128\n",
      "36/36 [==============================] - 0s 4ms/step - loss: 0.2433 - accuracy: 0.9383\n",
      "Epoch 57/128\n",
      "36/36 [==============================] - 0s 4ms/step - loss: 0.2189 - accuracy: 0.9480\n",
      "Epoch 58/128\n",
      "36/36 [==============================] - 0s 4ms/step - loss: 0.1939 - accuracy: 0.9572\n",
      "Epoch 59/128\n",
      "36/36 [==============================] - 0s 5ms/step - loss: 0.2057 - accuracy: 0.9475\n",
      "Epoch 60/128\n",
      "36/36 [==============================] - 0s 4ms/step - loss: 0.2033 - accuracy: 0.9493\n",
      "Epoch 61/128\n",
      "36/36 [==============================] - 0s 4ms/step - loss: 0.1898 - accuracy: 0.9519\n",
      "Epoch 62/128\n",
      "36/36 [==============================] - 0s 3ms/step - loss: 0.1799 - accuracy: 0.9581\n",
      "Epoch 63/128\n",
      "36/36 [==============================] - 0s 2ms/step - loss: 0.1714 - accuracy: 0.9581\n",
      "Epoch 64/128\n",
      "36/36 [==============================] - 0s 2ms/step - loss: 0.1614 - accuracy: 0.9652\n",
      "Epoch 65/128\n",
      "36/36 [==============================] - 0s 2ms/step - loss: 0.1608 - accuracy: 0.9616\n",
      "Epoch 66/128\n",
      "36/36 [==============================] - 0s 2ms/step - loss: 0.1517 - accuracy: 0.9638\n",
      "Epoch 67/128\n",
      "36/36 [==============================] - 0s 4ms/step - loss: 0.1510 - accuracy: 0.9656\n",
      "Epoch 68/128\n",
      "36/36 [==============================] - 0s 4ms/step - loss: 0.1523 - accuracy: 0.9638\n",
      "Epoch 69/128\n",
      "36/36 [==============================] - 0s 4ms/step - loss: 0.1505 - accuracy: 0.9643\n",
      "Epoch 70/128\n",
      "36/36 [==============================] - 0s 4ms/step - loss: 0.1392 - accuracy: 0.9656\n",
      "Epoch 71/128\n",
      "36/36 [==============================] - 0s 4ms/step - loss: 0.1668 - accuracy: 0.9515\n",
      "Epoch 72/128\n",
      "36/36 [==============================] - 0s 4ms/step - loss: 0.1727 - accuracy: 0.9563\n",
      "Epoch 73/128\n",
      "36/36 [==============================] - 0s 4ms/step - loss: 0.1134 - accuracy: 0.9771\n",
      "Epoch 74/128\n",
      "36/36 [==============================] - 0s 4ms/step - loss: 0.1184 - accuracy: 0.9740\n",
      "Epoch 75/128\n",
      "36/36 [==============================] - 0s 4ms/step - loss: 0.1343 - accuracy: 0.9621\n",
      "Epoch 76/128\n",
      "36/36 [==============================] - 0s 4ms/step - loss: 0.1280 - accuracy: 0.9669\n",
      "Epoch 77/128\n",
      "36/36 [==============================] - 0s 3ms/step - loss: 0.1237 - accuracy: 0.9678\n",
      "Epoch 78/128\n",
      "36/36 [==============================] - 0s 2ms/step - loss: 0.1124 - accuracy: 0.9705\n",
      "Epoch 79/128\n",
      "36/36 [==============================] - 0s 2ms/step - loss: 0.1113 - accuracy: 0.9744\n",
      "Epoch 80/128\n",
      "36/36 [==============================] - 0s 3ms/step - loss: 0.1159 - accuracy: 0.9687\n",
      "Epoch 81/128\n",
      "36/36 [==============================] - 0s 3ms/step - loss: 0.1157 - accuracy: 0.9731\n",
      "Epoch 82/128\n",
      "36/36 [==============================] - 0s 3ms/step - loss: 0.1352 - accuracy: 0.9634\n",
      "Epoch 83/128\n"
     ]
    },
    {
     "name": "stdout",
     "output_type": "stream",
     "text": [
      "36/36 [==============================] - 0s 3ms/step - loss: 0.1142 - accuracy: 0.9705\n",
      "Epoch 84/128\n",
      "36/36 [==============================] - 0s 3ms/step - loss: 0.0915 - accuracy: 0.9788\n",
      "Epoch 85/128\n",
      "36/36 [==============================] - 0s 3ms/step - loss: 0.0708 - accuracy: 0.9868\n",
      "Epoch 86/128\n",
      "36/36 [==============================] - 0s 2ms/step - loss: 0.0792 - accuracy: 0.9837\n",
      "Epoch 87/128\n",
      "36/36 [==============================] - 0s 2ms/step - loss: 0.0743 - accuracy: 0.9846\n",
      "Epoch 88/128\n",
      "36/36 [==============================] - 0s 3ms/step - loss: 0.0783 - accuracy: 0.9859\n",
      "Epoch 89/128\n",
      "36/36 [==============================] - 0s 3ms/step - loss: 0.0913 - accuracy: 0.9753\n",
      "Epoch 90/128\n",
      "36/36 [==============================] - 0s 2ms/step - loss: 0.0745 - accuracy: 0.9832\n",
      "Epoch 91/128\n",
      "36/36 [==============================] - 0s 3ms/step - loss: 0.0750 - accuracy: 0.9854\n",
      "Epoch 92/128\n",
      "36/36 [==============================] - 0s 3ms/step - loss: 0.0647 - accuracy: 0.9863\n",
      "Epoch 93/128\n",
      "36/36 [==============================] - 0s 3ms/step - loss: 0.0586 - accuracy: 0.9907\n",
      "Epoch 94/128\n",
      "36/36 [==============================] - 0s 3ms/step - loss: 0.0591 - accuracy: 0.9881\n",
      "Epoch 95/128\n",
      "36/36 [==============================] - 0s 3ms/step - loss: 0.0522 - accuracy: 0.9921\n",
      "Epoch 96/128\n",
      "36/36 [==============================] - 0s 3ms/step - loss: 0.0618 - accuracy: 0.9907\n",
      "Epoch 97/128\n",
      "36/36 [==============================] - 0s 3ms/step - loss: 0.0457 - accuracy: 0.9925\n",
      "Epoch 98/128\n",
      "36/36 [==============================] - 0s 3ms/step - loss: 0.0579 - accuracy: 0.9872\n",
      "Epoch 99/128\n",
      "36/36 [==============================] - 0s 3ms/step - loss: 0.0578 - accuracy: 0.9894\n",
      "Epoch 100/128\n",
      "36/36 [==============================] - 0s 3ms/step - loss: 0.0458 - accuracy: 0.9938\n",
      "Epoch 101/128\n",
      "36/36 [==============================] - 0s 3ms/step - loss: 0.0610 - accuracy: 0.9890\n",
      "Epoch 102/128\n",
      "36/36 [==============================] - 0s 3ms/step - loss: 0.0527 - accuracy: 0.9890\n",
      "Epoch 103/128\n",
      "36/36 [==============================] - 0s 4ms/step - loss: 0.0527 - accuracy: 0.9899\n",
      "Epoch 104/128\n",
      "36/36 [==============================] - 0s 4ms/step - loss: 0.0451 - accuracy: 0.9907\n",
      "Epoch 105/128\n",
      "36/36 [==============================] - 0s 4ms/step - loss: 0.0472 - accuracy: 0.9925\n",
      "Epoch 106/128\n",
      "36/36 [==============================] - 0s 4ms/step - loss: 0.0662 - accuracy: 0.9846\n",
      "Epoch 107/128\n",
      "36/36 [==============================] - 0s 3ms/step - loss: 0.0344 - accuracy: 0.9960\n",
      "Epoch 108/128\n",
      "36/36 [==============================] - 0s 3ms/step - loss: 0.0582 - accuracy: 0.9859\n",
      "Epoch 109/128\n",
      "36/36 [==============================] - 0s 2ms/step - loss: 0.0430 - accuracy: 0.9925\n",
      "Epoch 110/128\n",
      "36/36 [==============================] - 0s 3ms/step - loss: 0.0392 - accuracy: 0.9947\n",
      "Epoch 111/128\n",
      "36/36 [==============================] - 0s 3ms/step - loss: 0.0486 - accuracy: 0.9881\n",
      "Epoch 112/128\n",
      "36/36 [==============================] - 0s 3ms/step - loss: 0.0737 - accuracy: 0.9788\n",
      "Epoch 113/128\n",
      "36/36 [==============================] - 0s 3ms/step - loss: 0.0491 - accuracy: 0.9907\n",
      "Epoch 114/128\n",
      "36/36 [==============================] - 0s 3ms/step - loss: 0.0319 - accuracy: 0.9960\n",
      "Epoch 115/128\n",
      "36/36 [==============================] - 0s 3ms/step - loss: 0.0321 - accuracy: 0.9947\n",
      "Epoch 116/128\n",
      "36/36 [==============================] - 0s 3ms/step - loss: 0.0571 - accuracy: 0.9863\n",
      "Epoch 117/128\n",
      "36/36 [==============================] - 0s 2ms/step - loss: 0.0270 - accuracy: 0.9956\n",
      "Epoch 118/128\n",
      "36/36 [==============================] - 0s 3ms/step - loss: 0.0271 - accuracy: 0.9956\n",
      "Epoch 119/128\n",
      "36/36 [==============================] - 0s 2ms/step - loss: 0.0313 - accuracy: 0.9947\n",
      "Epoch 120/128\n",
      "36/36 [==============================] - 0s 3ms/step - loss: 0.0329 - accuracy: 0.9934\n",
      "Epoch 121/128\n",
      "36/36 [==============================] - 0s 2ms/step - loss: 0.0297 - accuracy: 0.9947\n",
      "Epoch 122/128\n",
      "36/36 [==============================] - 0s 2ms/step - loss: 0.0259 - accuracy: 0.9965\n",
      "Epoch 123/128\n",
      "36/36 [==============================] - 0s 2ms/step - loss: 0.0239 - accuracy: 0.9956\n",
      "Epoch 124/128\n",
      "36/36 [==============================] - 0s 3ms/step - loss: 0.0162 - accuracy: 0.9987\n",
      "Epoch 125/128\n",
      "36/36 [==============================] - 0s 2ms/step - loss: 0.0245 - accuracy: 0.9947\n",
      "Epoch 126/128\n",
      "36/36 [==============================] - 0s 3ms/step - loss: 0.0280 - accuracy: 0.9969\n",
      "Epoch 127/128\n",
      "36/36 [==============================] - 0s 3ms/step - loss: 0.0243 - accuracy: 0.9960\n",
      "Epoch 128/128\n",
      "36/36 [==============================] - 0s 3ms/step - loss: 0.0163 - accuracy: 0.9982\n"
     ]
    },
    {
     "data": {
      "text/plain": [
       "<keras.callbacks.History at 0x249f3665750>"
      ]
     },
     "execution_count": 12,
     "metadata": {},
     "output_type": "execute_result"
    }
   ],
   "source": [
    "# Define the model\n",
    "model = keras.Sequential([\n",
    "    keras.layers.Flatten(input_shape=(28,28)),\n",
    "    keras.layers.Dense(128, activation='relu'),\n",
    "    keras.layers.Dense(64, activation='relu'),\n",
    "    keras.layers.Dense(9, activation='softmax')\n",
    "])\n",
    "\n",
    "# Compile the model\n",
    "model.compile(optimizer='adam', loss='sparse_categorical_crossentropy', metrics=['accuracy'])\n",
    "\n",
    "# Train the model\n",
    "model.fit(X_train, y_train-1, epochs=128, batch_size=64)\n",
    "\n"
   ]
  },
  {
   "cell_type": "markdown",
   "metadata": {
    "id": "zCZ6db-V8GTE"
   },
   "source": [
    "# Evaluation du modèle"
   ]
  },
  {
   "cell_type": "code",
   "execution_count": 13,
   "metadata": {
    "colab": {
     "base_uri": "https://localhost:8080/"
    },
    "executionInfo": {
     "elapsed": 839,
     "status": "ok",
     "timestamp": 1712932723856,
     "user": {
      "displayName": "Claire Devignes",
      "userId": "02865189488717135478"
     },
     "user_tz": -120
    },
    "id": "w7sWX3kCNTWS",
    "outputId": "684cf1f2-d2c3-46ef-f6c5-fc82024f01e2"
   },
   "outputs": [
    {
     "name": "stdout",
     "output_type": "stream",
     "text": [
      "36/36 [==============================] - 0s 2ms/step - loss: 0.3406 - accuracy: 0.9313\n",
      "Test Loss: 0.34064850211143494\n",
      "Test Accuracy: 0.9312775135040283\n"
     ]
    }
   ],
   "source": [
    "# Evaluate the model on the test set\n",
    "# Subtracting 1 from y_test to align labels if they originally start from 1\n",
    "test_loss, test_accuracy = model.evaluate(X_test, y_test - 1)\n",
    "# Print the results\n",
    "print(f\"Test Loss: {test_loss}\")\n",
    "print(f\"Test Accuracy: {test_accuracy}\")"
   ]
  },
  {
   "cell_type": "code",
   "execution_count": 14,
   "metadata": {
    "colab": {
     "base_uri": "https://localhost:8080/"
    },
    "executionInfo": {
     "elapsed": 796,
     "status": "ok",
     "timestamp": 1712932824245,
     "user": {
      "displayName": "Claire Devignes",
      "userId": "02865189488717135478"
     },
     "user_tz": -120
    },
    "id": "rsms7k-DPLXL",
    "outputId": "24148f3c-8df4-439e-8dde-6b4384bcf666"
   },
   "outputs": [
    {
     "name": "stdout",
     "output_type": "stream",
     "text": [
      "36/36 [==============================] - 0s 2ms/step\n"
     ]
    }
   ],
   "source": [
    "# Generate predictions for the test set\n",
    "y_predicted = model.predict(X_test)\n",
    "# Use np.argmax to find the index of the maximum value in the first set of predictions,\n",
    "# which corresponds to the model's predicted class label for the first image\n",
    "# Pour détecter les erreur: ajouter une conditions : si\n",
    "predicted_label = np.argmax(y_predicted[0])\n",
    "# Convert the model's predictions from probability distributions to class labels\n",
    "# by finding the index of the max probability for each prediction and adding 1\n",
    "y_predicted_labels = [np.argmax(i) + 1 for i in y_predicted]"
   ]
  },
  {
   "cell_type": "code",
   "execution_count": 15,
   "metadata": {
    "colab": {
     "base_uri": "https://localhost:8080/",
     "height": 637
    },
    "executionInfo": {
     "elapsed": 980,
     "status": "ok",
     "timestamp": 1712932828309,
     "user": {
      "displayName": "Claire Devignes",
      "userId": "02865189488717135478"
     },
     "user_tz": -120
    },
    "id": "dV70hFhiO7IC",
    "outputId": "77ac34d0-3d3c-44ac-fcb1-239dcc83a99b"
   },
   "outputs": [
    {
     "data": {
      "text/plain": [
       "Text(95.72222222222221, 0.5, 'Truth')"
      ]
     },
     "execution_count": 15,
     "metadata": {},
     "output_type": "execute_result"
    },
    {
     "data": {
      "image/png": "[encoded data removed]",
      "text/plain": [
       "<Figure size 1000x700 with 2 Axes>"
      ]
     },
     "metadata": {},
     "output_type": "display_data"
    }
   ],
   "source": [
    "# Generate a confusion matrix to compare the true labels (y_test)\n",
    "# against the model's predicted labels (y_predicted_labels)\n",
    "cm = tf.math.confusion_matrix(labels=y_test, predictions=y_predicted_labels)\n",
    "# Set the size of the figure for the heatmap\n",
    "plt.figure(figsize=(10, 7))\n",
    "\n",
    "# Create a heatmap to visualize the confusion matrix\n",
    "# 'annot=True' annotates each cell with the integer value (formatted as 'd' for decimal)\n",
    "# 'fmt='d'' specifies numeric formatting for annotations\n",
    "sns.heatmap(cm, annot=True, fmt='d')\n",
    "\n",
    "# Label the x-axis as \"Predicted\"\n",
    "plt.xlabel(\"Predicted\")\n",
    "\n",
    "# Label the y-axis as \"Truth\"\n",
    "plt.ylabel(\"Truth\")"
   ]
  },
  {
   "cell_type": "markdown",
   "metadata": {
    "id": "lHkNNDLV_Exk"
   },
   "source": [
    "# Save the model"
   ]
  },
  {
   "cell_type": "code",
   "execution_count": 16,
   "metadata": {
    "colab": {
     "base_uri": "https://localhost:8080/"
    },
    "executionInfo": {
     "elapsed": 2363,
     "status": "ok",
     "timestamp": 1712932869740,
     "user": {
      "displayName": "Claire Devignes",
      "userId": "02865189488717135478"
     },
     "user_tz": -120
    },
    "id": "O-gew1HQRAD5",
    "outputId": "4b9d5875-763b-460d-feab-5a6bf66642f1"
   },
   "outputs": [
    {
     "name": "stderr",
     "output_type": "stream",
     "text": [
      "WARNING:absl:Found untraced functions such as _update_step_xla while saving (showing 1 of 1). These functions will not be directly callable after loading.\n"
     ]
    },
    {
     "name": "stdout",
     "output_type": "stream",
     "text": [
      "INFO:tensorflow:Assets written to: model_CS_20240416\\assets\n"
     ]
    },
    {
     "name": "stderr",
     "output_type": "stream",
     "text": [
      "INFO:tensorflow:Assets written to: model_CS_20240416\\assets\n"
     ]
    },
    {
     "name": "stdout",
     "output_type": "stream",
     "text": [
      "36/36 [==============================] - 0s 2ms/step - loss: 0.3406 - accuracy: 0.9313\n",
      "Test Loss: 0.34064850211143494, Test Accuracy: 0.9312775135040283\n"
     ]
    }
   ],
   "source": [
    "# Save the model to the specified path\n",
    "model.save(\"model_CS_20240416\")\n",
    "\n",
    "# Evaluate the model on the test dataset to get the loss value & metrics values for the model\n",
    "test_loss, test_accuracy = model.evaluate(X_test, y_test -1)\n",
    "\n",
    "# Print out the model's performance on the test dataset\n",
    "print(f\"Test Loss: {test_loss}, Test Accuracy: {test_accuracy}\")\n"
   ]
  },
  {
   "cell_type": "code",
   "execution_count": null,
   "metadata": {},
   "outputs": [],
   "source": []
  }
 ],
 "metadata": {
  "colab": {
   "provenance": []
  },
  "kernelspec": {
   "display_name": "Python 3 (ipykernel)",
   "language": "python",
   "name": "python3"
  },
  "language_info": {
   "codemirror_mode": {
    "name": "ipython",
    "version": 3
   },
   "file_extension": ".py",
   "mimetype": "text/x-python",
   "name": "python",
   "nbconvert_exporter": "python",
   "pygments_lexer": "ipython3",
   "version": "3.11.4"
  }
 },
 "nbformat": 4,
 "nbformat_minor": 1
}
